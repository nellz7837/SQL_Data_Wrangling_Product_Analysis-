{
  "cells": [
    {
      "cell_type": "markdown",
      "metadata": {
        "id": "5RwD7o92Y72M"
      },
      "source": [
        "# Basic Step"
      ]
    },
    {
      "cell_type": "code",
      "execution_count": null,
      "metadata": {
        "id": "N_YwkAOWXWjU"
      },
      "outputs": [],
      "source": [
        "# Library for import database data format\n",
        "import sqlite3 as db\n",
        "\n",
        "# Library cleaning and preprocessing data\n",
        "import pandas as pd\n",
        "import numpy as np\n",
        "import datetime as dt\n",
        "\n",
        "# Library for visualisation\n",
        "import seaborn as sns\n",
        "import matplotlib.pyplot as plt\n",
        "import matplotlib.ticker as ticker\n",
        "\n",
        "# Library to ignore future warning \n",
        "import warnings\n",
        "warnings.simplefilter(action='ignore', category=FutureWarning)"
      ]
    },
    {
      "cell_type": "code",
      "execution_count": null,
      "metadata": {
        "id": "K4zFmTfCYNOV"
      },
      "outputs": [],
      "source": [
        "# koneksi ke googledrive\n",
        "\n",
        "from google.colab import drive\n",
        "drive.mount('/content/gdrive')"
      ]
    },
    {
      "cell_type": "code",
      "source": [
        "\n",
        "conn = db.connect('/content/gdrive/MyDrive/Colab Notebooks/olist.db')"
      ],
      "metadata": {
        "id": "GPtI3onrXeDX"
      },
      "execution_count": null,
      "outputs": []
    },
    {
      "cell_type": "code",
      "execution_count": null,
      "metadata": {
        "colab": {
          "base_uri": "https://localhost:8080/"
        },
        "id": "aCzLGMtiYs3o",
        "outputId": "ae262e2d-605e-4224-aea9-aa19b8ee3791"
      },
      "outputs": [
        {
          "output_type": "stream",
          "name": "stdout",
          "text": [
            "0         (olist_order_customer_dataset,)\n",
            "1                  (olist_order_dataset,)\n",
            "2          (olist_order_reviews_dataset,)\n",
            "3         (olist_order_payments_dataset,)\n",
            "4            (olist_order_items_dataset,)\n",
            "5               (olist_products_dataset,)\n",
            "6                (olist_sellers_dataset,)\n",
            "7            (olist_geolocation_dataset,)\n",
            "8    (product_category_name_translation,)\n",
            "dtype: object\n"
          ]
        }
      ],
      "source": [
        "# creating cursor to access sqlite master\n",
        "cur = conn.cursor()\n",
        "\n",
        "# reading all table names\n",
        "table_list = [a for a in cur.execute(\"SELECT name FROM sqlite_master WHERE type = 'table'\")]\n",
        "print(pd.Series(table_list))\n"
      ]
    },
    {
      "cell_type": "markdown",
      "source": [
        "Retreive and Join Table"
      ],
      "metadata": {
        "id": "IvWGxdPOdAxZ"
      }
    },
    {
      "cell_type": "code",
      "execution_count": null,
      "metadata": {
        "id": "R-q7PvIxfMRo"
      },
      "outputs": [],
      "source": [
        "# access table products\n",
        "query_product = (\"SELECT * FROM olist_products_dataset\")\n",
        "product = pd.read_sql(query_product, conn)\n",
        "product.set_index(\"index\", inplace=True)\n",
        "\n",
        "# access table items\n",
        "query_items = (\"SELECT * FROM olist_order_items_dataset\")\n",
        "items = pd.read_sql(query_items, conn)\n",
        "items.set_index(\"index\", inplace=True)\n",
        "\n",
        "# left join the tables on product_id\n",
        "table = pd.merge(product, items, on=\"product_id\", how=\"left\")"
      ]
    },
    {
      "cell_type": "code",
      "source": [
        "# view table info\n",
        "print(table.shape)\n",
        "table.info()"
      ],
      "metadata": {
        "colab": {
          "base_uri": "https://localhost:8080/"
        },
        "id": "J0v1uHOOcE-z",
        "outputId": "887a3df2-0199-4710-fe87-4ea4d827cd43"
      },
      "execution_count": null,
      "outputs": [
        {
          "output_type": "stream",
          "name": "stdout",
          "text": [
            "(112650, 15)\n",
            "<class 'pandas.core.frame.DataFrame'>\n",
            "Int64Index: 112650 entries, 0 to 112649\n",
            "Data columns (total 15 columns):\n",
            " #   Column                      Non-Null Count   Dtype  \n",
            "---  ------                      --------------   -----  \n",
            " 0   product_id                  112650 non-null  object \n",
            " 1   product_category_name       111047 non-null  object \n",
            " 2   product_name_lenght         111047 non-null  float64\n",
            " 3   product_description_lenght  111047 non-null  float64\n",
            " 4   product_photos_qty          111047 non-null  float64\n",
            " 5   product_weight_g            112632 non-null  float64\n",
            " 6   product_length_cm           112632 non-null  float64\n",
            " 7   product_height_cm           112632 non-null  float64\n",
            " 8   product_width_cm            112632 non-null  float64\n",
            " 9   order_id                    112650 non-null  object \n",
            " 10  order_item_id               112650 non-null  int64  \n",
            " 11  seller_id                   112650 non-null  object \n",
            " 12  shipping_limit_date         112650 non-null  object \n",
            " 13  price                       112650 non-null  float64\n",
            " 14  freight_value               112650 non-null  float64\n",
            "dtypes: float64(9), int64(1), object(5)\n",
            "memory usage: 13.8+ MB\n"
          ]
        }
      ]
    },
    {
      "cell_type": "markdown",
      "source": [
        "# Pre Processing\n",
        "\n",
        "Get relevant data"
      ],
      "metadata": {
        "id": "OGCgekNRcYN8"
      }
    },
    {
      "cell_type": "code",
      "source": [
        "# remove unnecessary columns\n",
        "columns_to_drop = [\"seller_id\",\n",
        "                   \"shipping_limit_date\",\n",
        "                   \"freight_value\"]\n",
        "\n",
        "table.drop(columns_to_drop, axis=1, inplace=True)\n",
        "table.info()"
      ],
      "metadata": {
        "colab": {
          "base_uri": "https://localhost:8080/"
        },
        "id": "eMlCce6pcmaG",
        "outputId": "82d172c1-7395-4453-9455-d47bea526c6f"
      },
      "execution_count": null,
      "outputs": [
        {
          "output_type": "stream",
          "name": "stdout",
          "text": [
            "<class 'pandas.core.frame.DataFrame'>\n",
            "Int64Index: 112650 entries, 0 to 112649\n",
            "Data columns (total 12 columns):\n",
            " #   Column                      Non-Null Count   Dtype  \n",
            "---  ------                      --------------   -----  \n",
            " 0   product_id                  112650 non-null  object \n",
            " 1   product_category_name       111047 non-null  object \n",
            " 2   product_name_lenght         111047 non-null  float64\n",
            " 3   product_description_lenght  111047 non-null  float64\n",
            " 4   product_photos_qty          111047 non-null  float64\n",
            " 5   product_weight_g            112632 non-null  float64\n",
            " 6   product_length_cm           112632 non-null  float64\n",
            " 7   product_height_cm           112632 non-null  float64\n",
            " 8   product_width_cm            112632 non-null  float64\n",
            " 9   order_id                    112650 non-null  object \n",
            " 10  order_item_id               112650 non-null  int64  \n",
            " 11  price                       112650 non-null  float64\n",
            "dtypes: float64(8), int64(1), object(3)\n",
            "memory usage: 11.2+ MB\n"
          ]
        }
      ]
    },
    {
      "cell_type": "markdown",
      "source": [
        "Impute Missing Values"
      ],
      "metadata": {
        "id": "YzHOjblneYKj"
      }
    },
    {
      "cell_type": "code",
      "source": [
        "# calculate the presentation of missing values in each column\n",
        "table.isna().sum() / len(table) * 100"
      ],
      "metadata": {
        "colab": {
          "base_uri": "https://localhost:8080/"
        },
        "id": "aGtDYITReYmG",
        "outputId": "58e4de6b-ca86-41f2-f6c3-ece422f2c750"
      },
      "execution_count": null,
      "outputs": [
        {
          "output_type": "execute_result",
          "data": {
            "text/plain": [
              "product_id                    0.000000\n",
              "product_category_name         1.422992\n",
              "product_name_lenght           1.422992\n",
              "product_description_lenght    1.422992\n",
              "product_photos_qty            1.422992\n",
              "product_weight_g              0.015979\n",
              "product_length_cm             0.015979\n",
              "product_height_cm             0.015979\n",
              "product_width_cm              0.015979\n",
              "order_id                      0.000000\n",
              "order_item_id                 0.000000\n",
              "price                         0.000000\n",
              "dtype: float64"
            ]
          },
          "metadata": {},
          "execution_count": 46
        }
      ]
    },
    {
      "cell_type": "code",
      "source": [
        "# migrate the not Na rows to a new table\n",
        "table2 = table[table['product_category_name'].notna()]\n",
        "\n",
        "# calculate Nan percentage of the new table\n",
        "table2.isna().sum() / len(table)"
      ],
      "metadata": {
        "colab": {
          "base_uri": "https://localhost:8080/"
        },
        "id": "e_wXZjS9ekip",
        "outputId": "416f12fc-dfa6-4b5b-8c44-d85465033d78"
      },
      "execution_count": null,
      "outputs": [
        {
          "output_type": "execute_result",
          "data": {
            "text/plain": [
              "product_id                    0.000000\n",
              "product_category_name         0.000000\n",
              "product_name_lenght           0.000000\n",
              "product_description_lenght    0.000000\n",
              "product_photos_qty            0.000000\n",
              "product_weight_g              0.000009\n",
              "product_length_cm             0.000009\n",
              "product_height_cm             0.000009\n",
              "product_width_cm              0.000009\n",
              "order_id                      0.000000\n",
              "order_item_id                 0.000000\n",
              "price                         0.000000\n",
              "dtype: float64"
            ]
          },
          "metadata": {},
          "execution_count": 47
        }
      ]
    },
    {
      "cell_type": "code",
      "source": [
        "# histogram plot to see distribution\n",
        "fig, axes = plt.subplots(1,4, figsize=(16, 2))\n",
        "sns.histplot(data=table2, x=\"product_weight_g\", ax=axes[0], kde=\"True\")\n",
        "sns.histplot(data=table2, x=\"product_length_cm\", ax=axes[1], kde=\"True\")\n",
        "sns.histplot(data=table2, x=\"product_height_cm\", ax=axes[2], kde=\"True\")\n",
        "sns.histplot(data=table2, x=\"product_width_cm\", ax=axes[3], kde=\"True\")"
      ],
      "metadata": {
        "colab": {
          "base_uri": "https://localhost:8080/",
          "height": 254
        },
        "id": "Xn2Qxdbxer4v",
        "outputId": "bc49adb2-2a66-4044-8e0c-0c1ff33ab26e"
      },
      "execution_count": null,
      "outputs": [
        {
          "output_type": "execute_result",
          "data": {
            "text/plain": [
              "<Axes: xlabel='product_width_cm', ylabel='Count'>"
            ]
          },
          "metadata": {},
          "execution_count": 48
        },
        {
          "output_type": "display_data",
          "data": {
            "text/plain": [
              "<Figure size 1600x200 with 4 Axes>"
            ],
            "image/png": "[encoded data removed]"
          },
          "metadata": {}
        }
      ]
    },
    {
      "cell_type": "code",
      "source": [
        "# impute missing values using median of each\n",
        "table2[\"product_weight_g\"].fillna(table2[\"product_weight_g\"].median(), inplace=True)\n",
        "table2[\"product_length_cm\"].fillna(table2[\"product_length_cm\"].median(), inplace=True)\n",
        "table2[\"product_height_cm\"].fillna(table2[\"product_height_cm\"].median(), inplace=True)\n",
        "table2[\"product_width_cm\"].fillna(table2[\"product_width_cm\"].median(), inplace=True)\n",
        "\n",
        "# re-check the NaN percentage\n",
        "table2.isna().sum() / len(table) * 100"
      ],
      "metadata": {
        "colab": {
          "base_uri": "https://localhost:8080/"
        },
        "id": "S1fDXd39e0DQ",
        "outputId": "f4dafe9f-b773-408c-ffc6-d4cb791d1517"
      },
      "execution_count": null,
      "outputs": [
        {
          "output_type": "execute_result",
          "data": {
            "text/plain": [
              "product_id                    0.0\n",
              "product_category_name         0.0\n",
              "product_name_lenght           0.0\n",
              "product_description_lenght    0.0\n",
              "product_photos_qty            0.0\n",
              "product_weight_g              0.0\n",
              "product_length_cm             0.0\n",
              "product_height_cm             0.0\n",
              "product_width_cm              0.0\n",
              "order_id                      0.0\n",
              "order_item_id                 0.0\n",
              "price                         0.0\n",
              "dtype: float64"
            ]
          },
          "metadata": {},
          "execution_count": 49
        }
      ]
    },
    {
      "cell_type": "markdown",
      "source": [
        "Duplication Checking"
      ],
      "metadata": {
        "id": "36P1pxXkfAxb"
      }
    },
    {
      "cell_type": "code",
      "source": [
        "table2[table2.duplicated()]"
      ],
      "metadata": {
        "colab": {
          "base_uri": "https://localhost:8080/",
          "height": 113
        },
        "id": "aH1z_SAvfDKC",
        "outputId": "07720e86-08cd-460f-d890-ce7ea6ac8414"
      },
      "execution_count": null,
      "outputs": [
        {
          "output_type": "execute_result",
          "data": {
            "text/plain": [
              "Empty DataFrame\n",
              "Columns: [product_id, product_category_name, product_name_lenght, product_description_lenght, product_photos_qty, product_weight_g, product_length_cm, product_height_cm, product_width_cm, order_id, order_item_id, price]\n",
              "Index: []"
            ],
            "text/html": [
              "\n",
              "  <div id=\"df-d2176049-b194-4a45-9e20-1fbfaa96b86e\">\n",
              "    <div class=\"colab-df-container\">\n",
              "      <div>\n",
              "<style scoped>\n",
              "    .dataframe tbody tr th:only-of-type {\n",
              "        vertical-align: middle;\n",
              "    }\n",
              "\n",
              "    .dataframe tbody tr th {\n",
              "        vertical-align: top;\n",
              "    }\n",
              "\n",
              "    .dataframe thead th {\n",
              "        text-align: right;\n",
              "    }\n",
              "</style>\n",
              "<table border=\"1\" class=\"dataframe\">\n",
              "  <thead>\n",
              "    <tr style=\"text-align: right;\">\n",
              "      <th></th>\n",
              "      <th>product_id</th>\n",
              "      <th>product_category_name</th>\n",
              "      <th>product_name_lenght</th>\n",
              "      <th>product_description_lenght</th>\n",
              "      <th>product_photos_qty</th>\n",
              "      <th>product_weight_g</th>\n",
              "      <th>product_length_cm</th>\n",
              "      <th>product_height_cm</th>\n",
              "      <th>product_width_cm</th>\n",
              "      <th>order_id</th>\n",
              "      <th>order_item_id</th>\n",
              "      <th>price</th>\n",
              "    </tr>\n",
              "  </thead>\n",
              "  <tbody>\n",
              "  </tbody>\n",
              "</table>\n",
              "</div>\n",
              "      <button class=\"colab-df-convert\" onclick=\"convertToInteractive('df-d2176049-b194-4a45-9e20-1fbfaa96b86e')\"\n",
              "              title=\"Convert this dataframe to an interactive table.\"\n",
              "              style=\"display:none;\">\n",
              "        \n",
              "  <svg xmlns=\"http://www.w3.org/2000/svg\" height=\"24px\"viewBox=\"0 0 24 24\"\n",
              "       width=\"24px\">\n",
              "    <path d=\"M0 0h24v24H0V0z\" fill=\"none\"/>\n",
              "    <path d=\"M18.56 5.44l.94 2.06.94-2.06 2.06-.94-2.06-.94-.94-2.06-.94 2.06-2.06.94zm-11 1L8.5 8.5l.94-2.06 2.06-.94-2.06-.94L8.5 2.5l-.94 2.06-2.06.94zm10 10l.94 2.06.94-2.06 2.06-.94-2.06-.94-.94-2.06-.94 2.06-2.06.94z\"/><path d=\"M17.41 7.96l-1.37-1.37c-.4-.4-.92-.59-1.43-.59-.52 0-1.04.2-1.43.59L10.3 9.45l-7.72 7.72c-.78.78-.78 2.05 0 2.83L4 21.41c.39.39.9.59 1.41.59.51 0 1.02-.2 1.41-.59l7.78-7.78 2.81-2.81c.8-.78.8-2.07 0-2.86zM5.41 20L4 18.59l7.72-7.72 1.47 1.35L5.41 20z\"/>\n",
              "  </svg>\n",
              "      </button>\n",
              "      \n",
              "  <style>\n",
              "    .colab-df-container {\n",
              "      display:flex;\n",
              "      flex-wrap:wrap;\n",
              "      gap: 12px;\n",
              "    }\n",
              "\n",
              "    .colab-df-convert {\n",
              "      background-color: #E8F0FE;\n",
              "      border: none;\n",
              "      border-radius: 50%;\n",
              "      cursor: pointer;\n",
              "      display: none;\n",
              "      fill: #1967D2;\n",
              "      height: 32px;\n",
              "      padding: 0 0 0 0;\n",
              "      width: 32px;\n",
              "    }\n",
              "\n",
              "    .colab-df-convert:hover {\n",
              "      background-color: #E2EBFA;\n",
              "      box-shadow: 0px 1px 2px rgba(60, 64, 67, 0.3), 0px 1px 3px 1px rgba(60, 64, 67, 0.15);\n",
              "      fill: #174EA6;\n",
              "    }\n",
              "\n",
              "    [theme=dark] .colab-df-convert {\n",
              "      background-color: #3B4455;\n",
              "      fill: #D2E3FC;\n",
              "    }\n",
              "\n",
              "    [theme=dark] .colab-df-convert:hover {\n",
              "      background-color: #434B5C;\n",
              "      box-shadow: 0px 1px 3px 1px rgba(0, 0, 0, 0.15);\n",
              "      filter: drop-shadow(0px 1px 2px rgba(0, 0, 0, 0.3));\n",
              "      fill: #FFFFFF;\n",
              "    }\n",
              "  </style>\n",
              "\n",
              "      <script>\n",
              "        const buttonEl =\n",
              "          document.querySelector('#df-d2176049-b194-4a45-9e20-1fbfaa96b86e button.colab-df-convert');\n",
              "        buttonEl.style.display =\n",
              "          google.colab.kernel.accessAllowed ? 'block' : 'none';\n",
              "\n",
              "        async function convertToInteractive(key) {\n",
              "          const element = document.querySelector('#df-d2176049-b194-4a45-9e20-1fbfaa96b86e');\n",
              "          const dataTable =\n",
              "            await google.colab.kernel.invokeFunction('convertToInteractive',\n",
              "                                                     [key], {});\n",
              "          if (!dataTable) return;\n",
              "\n",
              "          const docLinkHtml = 'Like what you see? Visit the ' +\n",
              "            '<a target=\"_blank\" href=https://colab.research.google.com/notebooks/data_table.ipynb>data table notebook</a>'\n",
              "            + ' to learn more about interactive tables.';\n",
              "          element.innerHTML = '';\n",
              "          dataTable['output_type'] = 'display_data';\n",
              "          await google.colab.output.renderOutput(dataTable, element);\n",
              "          const docLink = document.createElement('div');\n",
              "          docLink.innerHTML = docLinkHtml;\n",
              "          element.appendChild(docLink);\n",
              "        }\n",
              "      </script>\n",
              "    </div>\n",
              "  </div>\n",
              "  "
            ]
          },
          "metadata": {},
          "execution_count": 50
        }
      ]
    },
    {
      "cell_type": "markdown",
      "source": [
        "Fix Inconsistent Format"
      ],
      "metadata": {
        "id": "rCxRIc_pfOzu"
      }
    },
    {
      "cell_type": "code",
      "source": [
        "# retrieve unique categories in the table\n",
        "with pd.option_context('display.max_rows', None, 'display.max_columns', None):\n",
        "    print(table2[\"product_category_name\"].unique())"
      ],
      "metadata": {
        "colab": {
          "base_uri": "https://localhost:8080/"
        },
        "id": "m6FDgzzAfTyM",
        "outputId": "178f742f-173c-4a27-c4bc-1754631f62bf"
      },
      "execution_count": null,
      "outputs": [
        {
          "output_type": "stream",
          "name": "stdout",
          "text": [
            "['perfumaria' 'artes' 'esporte_lazer' 'bebes' 'utilidades_domesticas'\n",
            " 'instrumentos_musicais' 'cool_stuff' 'moveis_decoracao'\n",
            " 'eletrodomesticos' 'brinquedos' 'cama_mesa_banho'\n",
            " 'construcao_ferramentas_seguranca' 'informatica_acessorios'\n",
            " 'beleza_saude' 'malas_acessorios' 'ferramentas_jardim'\n",
            " 'moveis_escritorio' 'automotivo' 'eletronicos' 'fashion_calcados'\n",
            " 'telefonia' 'papelaria' 'fashion_bolsas_e_acessorios' 'pcs'\n",
            " 'casa_construcao' 'relogios_presentes'\n",
            " 'construcao_ferramentas_construcao' 'pet_shop' 'eletroportateis'\n",
            " 'agro_industria_e_comercio' 'moveis_sala' 'sinalizacao_e_seguranca'\n",
            " 'climatizacao' 'consoles_games' 'livros_interesse_geral'\n",
            " 'construcao_ferramentas_ferramentas' 'fashion_underwear_e_moda_praia'\n",
            " 'fashion_roupa_masculina'\n",
            " 'moveis_cozinha_area_de_servico_jantar_e_jardim'\n",
            " 'industria_comercio_e_negocios' 'telefonia_fixa'\n",
            " 'construcao_ferramentas_iluminacao' 'livros_tecnicos'\n",
            " 'eletrodomesticos_2' 'artigos_de_festas' 'bebidas' 'market_place'\n",
            " 'la_cuisine' 'construcao_ferramentas_jardim' 'fashion_roupa_feminina'\n",
            " 'casa_conforto' 'audio' 'alimentos_bebidas' 'musica' 'alimentos'\n",
            " 'tablets_impressao_imagem' 'livros_importados'\n",
            " 'portateis_casa_forno_e_cafe' 'fashion_esporte' 'artigos_de_natal'\n",
            " 'fashion_roupa_infanto_juvenil' 'dvds_blu_ray' 'artes_e_artesanato'\n",
            " 'pc_gamer' 'moveis_quarto' 'cine_foto' 'fraldas_higiene' 'flores'\n",
            " 'casa_conforto_2' 'portateis_cozinha_e_preparadores_de_alimentos'\n",
            " 'seguros_e_servicos' 'moveis_colchao_e_estofado' 'cds_dvds_musicais']\n"
          ]
        }
      ]
    },
    {
      "cell_type": "code",
      "source": [
        "# grouping the category for consistency\n",
        "map_category = {    \n",
        "    \"construcao_ferramentas_construcao\" : \"construcao_ferramentas\",\n",
        "    \"construcao_ferramentas_ferramentas\" : \"construcao_ferramentas\",\n",
        "    \"construcao_ferramentas_jardim\" : \"ferramentas_jardim\",\n",
        "    \n",
        "    \"livros_tecnicos\" : \"livros\",\n",
        "    \"livros_interesse_geral\" : \"livros\",\n",
        "    \"livros_importados\" : \"livros\",\n",
        "    \n",
        "    \"eletrodomesticos_2\" : \"eletrodomesticos\",\n",
        "    \"casa_conforto_2\" : \"casa_conforto\",\n",
        "    \"portateis_cozinha_e_preparadores_de_alimentos\" : \"la_cuisine\",\n",
        "    \n",
        "    \"artes_e_artesanato\" : \"artes\",\n",
        "    \"informatica_acessorios\" : \"pcs\",\n",
        "    \"pc_gamer\" : \"pcs\",\n",
        "    \n",
        "    \"tablets_impressao_imagem\" : \"electronicos\",\n",
        "    \"telefonia_fixa\" : \"telefonia\",\n",
        "\n",
        "    \"bebidas\" : \"alimentos_bebidas\",\n",
        "    \"alimentos\" : \"alimentos_bebidas\",\n",
        "    \"artigos_de_natal\" : \"artigos_de_festas\",\n",
        "}\n",
        "\n",
        "table2[\"product_category_name\"].replace(map_category, inplace=True)\n",
        "pd.Series(table2[\"product_category_name\"].unique())"
      ],
      "metadata": {
        "colab": {
          "base_uri": "https://localhost:8080/"
        },
        "id": "XBG12Llvfbiu",
        "outputId": "137f6031-689a-43d6-ca7b-8ddc90a82493"
      },
      "execution_count": null,
      "outputs": [
        {
          "output_type": "execute_result",
          "data": {
            "text/plain": [
              "0                                         perfumaria\n",
              "1                                              artes\n",
              "2                                      esporte_lazer\n",
              "3                                              bebes\n",
              "4                              utilidades_domesticas\n",
              "5                              instrumentos_musicais\n",
              "6                                         cool_stuff\n",
              "7                                   moveis_decoracao\n",
              "8                                   eletrodomesticos\n",
              "9                                         brinquedos\n",
              "10                                   cama_mesa_banho\n",
              "11                  construcao_ferramentas_seguranca\n",
              "12                                               pcs\n",
              "13                                      beleza_saude\n",
              "14                                  malas_acessorios\n",
              "15                                ferramentas_jardim\n",
              "16                                 moveis_escritorio\n",
              "17                                        automotivo\n",
              "18                                       eletronicos\n",
              "19                                  fashion_calcados\n",
              "20                                         telefonia\n",
              "21                                         papelaria\n",
              "22                       fashion_bolsas_e_acessorios\n",
              "23                                   casa_construcao\n",
              "24                                relogios_presentes\n",
              "25                            construcao_ferramentas\n",
              "26                                          pet_shop\n",
              "27                                   eletroportateis\n",
              "28                         agro_industria_e_comercio\n",
              "29                                       moveis_sala\n",
              "30                           sinalizacao_e_seguranca\n",
              "31                                      climatizacao\n",
              "32                                    consoles_games\n",
              "33                                            livros\n",
              "34                    fashion_underwear_e_moda_praia\n",
              "35                           fashion_roupa_masculina\n",
              "36    moveis_cozinha_area_de_servico_jantar_e_jardim\n",
              "37                     industria_comercio_e_negocios\n",
              "38                 construcao_ferramentas_iluminacao\n",
              "39                                 artigos_de_festas\n",
              "40                                 alimentos_bebidas\n",
              "41                                      market_place\n",
              "42                                        la_cuisine\n",
              "43                            fashion_roupa_feminina\n",
              "44                                     casa_conforto\n",
              "45                                             audio\n",
              "46                                            musica\n",
              "47                                      electronicos\n",
              "48                       portateis_casa_forno_e_cafe\n",
              "49                                   fashion_esporte\n",
              "50                     fashion_roupa_infanto_juvenil\n",
              "51                                      dvds_blu_ray\n",
              "52                                     moveis_quarto\n",
              "53                                         cine_foto\n",
              "54                                   fraldas_higiene\n",
              "55                                            flores\n",
              "56                                seguros_e_servicos\n",
              "57                         moveis_colchao_e_estofado\n",
              "58                                 cds_dvds_musicais\n",
              "dtype: object"
            ]
          },
          "metadata": {},
          "execution_count": 52
        }
      ]
    },
    {
      "cell_type": "markdown",
      "source": [
        "Handling Incorrect Datatype"
      ],
      "metadata": {
        "id": "tuERkvBqftgI"
      }
    },
    {
      "cell_type": "code",
      "source": [
        "# convert float columns to integer\n",
        "table2[\"product_name_lenght\"] = table2[\"product_name_lenght\"].astype(int)\n",
        "table2[\"product_description_lenght\"] = table2[\"product_description_lenght\"].astype(int)\n",
        "table2[\"product_photos_qty\"] = table2[\"product_photos_qty\"].astype(int)\n",
        "table2[\"product_weight_g\"] = table2[\"product_weight_g\"].astype(int)\n",
        "table2[\"product_length_cm\"] = table2[\"product_length_cm\"].astype(int)\n",
        "table2[\"product_height_cm\"] = table2[\"product_height_cm\"].astype(int)\n",
        "table2[\"product_width_cm\"] = table2[\"product_width_cm\"].astype(int)\n",
        "table2.info()"
      ],
      "metadata": {
        "colab": {
          "base_uri": "https://localhost:8080/"
        },
        "id": "UZx3ljc-fua2",
        "outputId": "52c58390-cfc1-4fd5-80cc-d38a6985ac24"
      },
      "execution_count": null,
      "outputs": [
        {
          "output_type": "stream",
          "name": "stdout",
          "text": [
            "<class 'pandas.core.frame.DataFrame'>\n",
            "Int64Index: 111047 entries, 0 to 112649\n",
            "Data columns (total 12 columns):\n",
            " #   Column                      Non-Null Count   Dtype  \n",
            "---  ------                      --------------   -----  \n",
            " 0   product_id                  111047 non-null  object \n",
            " 1   product_category_name       111047 non-null  object \n",
            " 2   product_name_lenght         111047 non-null  int64  \n",
            " 3   product_description_lenght  111047 non-null  int64  \n",
            " 4   product_photos_qty          111047 non-null  int64  \n",
            " 5   product_weight_g            111047 non-null  int64  \n",
            " 6   product_length_cm           111047 non-null  int64  \n",
            " 7   product_height_cm           111047 non-null  int64  \n",
            " 8   product_width_cm            111047 non-null  int64  \n",
            " 9   order_id                    111047 non-null  object \n",
            " 10  order_item_id               111047 non-null  int64  \n",
            " 11  price                       111047 non-null  float64\n",
            "dtypes: float64(1), int64(8), object(3)\n",
            "memory usage: 11.0+ MB\n"
          ]
        }
      ]
    },
    {
      "cell_type": "markdown",
      "source": [
        "Outlier Handling"
      ],
      "metadata": {
        "id": "qnADmeFigAer"
      }
    },
    {
      "cell_type": "code",
      "source": [
        "# create dataframe of numerical columns to plot\n",
        "outlier_check = pd.DataFrame(data = table2,\n",
        "                             columns = ['product_name_lenght','product_description_lenght',\n",
        "                                        'product_photos_qty','product_weight_g',\n",
        "                                        'product_length_cm','product_height_cm',\n",
        "                                        'product_width_cm', 'price'])\n",
        "\n",
        "# set plot size\n",
        "sns.set(rc={'figure.figsize':(6,3)})\n",
        "\n",
        "# plot dataframe\n",
        "sns.boxplot(x=\"value\", y=\"variable\", data=pd.melt(outlier_check), orient=\"h\")\n",
        "\n",
        "# show boxplot\n",
        "plt.show()\n",
        "\n",
        "# calculate statistical descriptive of each column\n",
        "table2.describe().transpose()"
      ],
      "metadata": {
        "colab": {
          "base_uri": "https://localhost:8080/",
          "height": 633
        },
        "id": "alROfWgFgDS0",
        "outputId": "4f31e9dd-c2c5-4cf0-e40d-262c8a7cb48e"
      },
      "execution_count": null,
      "outputs": [
        {
          "output_type": "display_data",
          "data": {
            "text/plain": [
              "<Figure size 600x300 with 1 Axes>"
            ],
            "image/png": "[encoded data removed]"
          },
          "metadata": {}
        },
        {
          "output_type": "execute_result",
          "data": {
            "text/plain": [
              "                               count         mean          std   min    25%  \\\n",
              "product_name_lenght         111047.0    48.775978    10.025581  5.00   42.0   \n",
              "product_description_lenght  111047.0   787.867029   652.135608  4.00  348.0   \n",
              "product_photos_qty          111047.0     2.209713     1.721438  1.00    1.0   \n",
              "product_weight_g            111047.0  2099.967050  3754.770669  0.00  300.0   \n",
              "product_length_cm           111047.0    30.210956    16.189286  7.00   18.0   \n",
              "product_height_cm           111047.0    16.626329    13.467404  2.00    8.0   \n",
              "product_width_cm            111047.0    23.041928    11.716610  6.00   15.0   \n",
              "order_item_id               111047.0     1.198213     0.706872  1.00    1.0   \n",
              "price                       111047.0   120.778665   183.419692  0.85   39.9   \n",
              "\n",
              "                               50%     75%      max  \n",
              "product_name_lenght          52.00    57.0     76.0  \n",
              "product_description_lenght  603.00   987.0   3992.0  \n",
              "product_photos_qty            1.00     3.0     20.0  \n",
              "product_weight_g            700.00  1800.0  40425.0  \n",
              "product_length_cm            25.00    38.0    105.0  \n",
              "product_height_cm            13.00    20.0    105.0  \n",
              "product_width_cm             20.00    30.0    118.0  \n",
              "order_item_id                 1.00     1.0     21.0  \n",
              "price                        74.99   134.9   6735.0  "
            ],
            "text/html": [
              "\n",
              "  <div id=\"df-3126154a-daca-48f3-9b53-b4e57d4e68c3\">\n",
              "    <div class=\"colab-df-container\">\n",
              "      <div>\n",
              "<style scoped>\n",
              "    .dataframe tbody tr th:only-of-type {\n",
              "        vertical-align: middle;\n",
              "    }\n",
              "\n",
              "    .dataframe tbody tr th {\n",
              "        vertical-align: top;\n",
              "    }\n",
              "\n",
              "    .dataframe thead th {\n",
              "        text-align: right;\n",
              "    }\n",
              "</style>\n",
              "<table border=\"1\" class=\"dataframe\">\n",
              "  <thead>\n",
              "    <tr style=\"text-align: right;\">\n",
              "      <th></th>\n",
              "      <th>count</th>\n",
              "      <th>mean</th>\n",
              "      <th>std</th>\n",
              "      <th>min</th>\n",
              "      <th>25%</th>\n",
              "      <th>50%</th>\n",
              "      <th>75%</th>\n",
              "      <th>max</th>\n",
              "    </tr>\n",
              "  </thead>\n",
              "  <tbody>\n",
              "    <tr>\n",
              "      <th>product_name_lenght</th>\n",
              "      <td>111047.0</td>\n",
              "      <td>48.775978</td>\n",
              "      <td>10.025581</td>\n",
              "      <td>5.00</td>\n",
              "      <td>42.0</td>\n",
              "      <td>52.00</td>\n",
              "      <td>57.0</td>\n",
              "      <td>76.0</td>\n",
              "    </tr>\n",
              "    <tr>\n",
              "      <th>product_description_lenght</th>\n",
              "      <td>111047.0</td>\n",
              "      <td>787.867029</td>\n",
              "      <td>652.135608</td>\n",
              "      <td>4.00</td>\n",
              "      <td>348.0</td>\n",
              "      <td>603.00</td>\n",
              "      <td>987.0</td>\n",
              "      <td>3992.0</td>\n",
              "    </tr>\n",
              "    <tr>\n",
              "      <th>product_photos_qty</th>\n",
              "      <td>111047.0</td>\n",
              "      <td>2.209713</td>\n",
              "      <td>1.721438</td>\n",
              "      <td>1.00</td>\n",
              "      <td>1.0</td>\n",
              "      <td>1.00</td>\n",
              "      <td>3.0</td>\n",
              "      <td>20.0</td>\n",
              "    </tr>\n",
              "    <tr>\n",
              "      <th>product_weight_g</th>\n",
              "      <td>111047.0</td>\n",
              "      <td>2099.967050</td>\n",
              "      <td>3754.770669</td>\n",
              "      <td>0.00</td>\n",
              "      <td>300.0</td>\n",
              "      <td>700.00</td>\n",
              "      <td>1800.0</td>\n",
              "      <td>40425.0</td>\n",
              "    </tr>\n",
              "    <tr>\n",
              "      <th>product_length_cm</th>\n",
              "      <td>111047.0</td>\n",
              "      <td>30.210956</td>\n",
              "      <td>16.189286</td>\n",
              "      <td>7.00</td>\n",
              "      <td>18.0</td>\n",
              "      <td>25.00</td>\n",
              "      <td>38.0</td>\n",
              "      <td>105.0</td>\n",
              "    </tr>\n",
              "    <tr>\n",
              "      <th>product_height_cm</th>\n",
              "      <td>111047.0</td>\n",
              "      <td>16.626329</td>\n",
              "      <td>13.467404</td>\n",
              "      <td>2.00</td>\n",
              "      <td>8.0</td>\n",
              "      <td>13.00</td>\n",
              "      <td>20.0</td>\n",
              "      <td>105.0</td>\n",
              "    </tr>\n",
              "    <tr>\n",
              "      <th>product_width_cm</th>\n",
              "      <td>111047.0</td>\n",
              "      <td>23.041928</td>\n",
              "      <td>11.716610</td>\n",
              "      <td>6.00</td>\n",
              "      <td>15.0</td>\n",
              "      <td>20.00</td>\n",
              "      <td>30.0</td>\n",
              "      <td>118.0</td>\n",
              "    </tr>\n",
              "    <tr>\n",
              "      <th>order_item_id</th>\n",
              "      <td>111047.0</td>\n",
              "      <td>1.198213</td>\n",
              "      <td>0.706872</td>\n",
              "      <td>1.00</td>\n",
              "      <td>1.0</td>\n",
              "      <td>1.00</td>\n",
              "      <td>1.0</td>\n",
              "      <td>21.0</td>\n",
              "    </tr>\n",
              "    <tr>\n",
              "      <th>price</th>\n",
              "      <td>111047.0</td>\n",
              "      <td>120.778665</td>\n",
              "      <td>183.419692</td>\n",
              "      <td>0.85</td>\n",
              "      <td>39.9</td>\n",
              "      <td>74.99</td>\n",
              "      <td>134.9</td>\n",
              "      <td>6735.0</td>\n",
              "    </tr>\n",
              "  </tbody>\n",
              "</table>\n",
              "</div>\n",
              "      <button class=\"colab-df-convert\" onclick=\"convertToInteractive('df-3126154a-daca-48f3-9b53-b4e57d4e68c3')\"\n",
              "              title=\"Convert this dataframe to an interactive table.\"\n",
              "              style=\"display:none;\">\n",
              "        \n",
              "  <svg xmlns=\"http://www.w3.org/2000/svg\" height=\"24px\"viewBox=\"0 0 24 24\"\n",
              "       width=\"24px\">\n",
              "    <path d=\"M0 0h24v24H0V0z\" fill=\"none\"/>\n",
              "    <path d=\"M18.56 5.44l.94 2.06.94-2.06 2.06-.94-2.06-.94-.94-2.06-.94 2.06-2.06.94zm-11 1L8.5 8.5l.94-2.06 2.06-.94-2.06-.94L8.5 2.5l-.94 2.06-2.06.94zm10 10l.94 2.06.94-2.06 2.06-.94-2.06-.94-.94-2.06-.94 2.06-2.06.94z\"/><path d=\"M17.41 7.96l-1.37-1.37c-.4-.4-.92-.59-1.43-.59-.52 0-1.04.2-1.43.59L10.3 9.45l-7.72 7.72c-.78.78-.78 2.05 0 2.83L4 21.41c.39.39.9.59 1.41.59.51 0 1.02-.2 1.41-.59l7.78-7.78 2.81-2.81c.8-.78.8-2.07 0-2.86zM5.41 20L4 18.59l7.72-7.72 1.47 1.35L5.41 20z\"/>\n",
              "  </svg>\n",
              "      </button>\n",
              "      \n",
              "  <style>\n",
              "    .colab-df-container {\n",
              "      display:flex;\n",
              "      flex-wrap:wrap;\n",
              "      gap: 12px;\n",
              "    }\n",
              "\n",
              "    .colab-df-convert {\n",
              "      background-color: #E8F0FE;\n",
              "      border: none;\n",
              "      border-radius: 50%;\n",
              "      cursor: pointer;\n",
              "      display: none;\n",
              "      fill: #1967D2;\n",
              "      height: 32px;\n",
              "      padding: 0 0 0 0;\n",
              "      width: 32px;\n",
              "    }\n",
              "\n",
              "    .colab-df-convert:hover {\n",
              "      background-color: #E2EBFA;\n",
              "      box-shadow: 0px 1px 2px rgba(60, 64, 67, 0.3), 0px 1px 3px 1px rgba(60, 64, 67, 0.15);\n",
              "      fill: #174EA6;\n",
              "    }\n",
              "\n",
              "    [theme=dark] .colab-df-convert {\n",
              "      background-color: #3B4455;\n",
              "      fill: #D2E3FC;\n",
              "    }\n",
              "\n",
              "    [theme=dark] .colab-df-convert:hover {\n",
              "      background-color: #434B5C;\n",
              "      box-shadow: 0px 1px 3px 1px rgba(0, 0, 0, 0.15);\n",
              "      filter: drop-shadow(0px 1px 2px rgba(0, 0, 0, 0.3));\n",
              "      fill: #FFFFFF;\n",
              "    }\n",
              "  </style>\n",
              "\n",
              "      <script>\n",
              "        const buttonEl =\n",
              "          document.querySelector('#df-3126154a-daca-48f3-9b53-b4e57d4e68c3 button.colab-df-convert');\n",
              "        buttonEl.style.display =\n",
              "          google.colab.kernel.accessAllowed ? 'block' : 'none';\n",
              "\n",
              "        async function convertToInteractive(key) {\n",
              "          const element = document.querySelector('#df-3126154a-daca-48f3-9b53-b4e57d4e68c3');\n",
              "          const dataTable =\n",
              "            await google.colab.kernel.invokeFunction('convertToInteractive',\n",
              "                                                     [key], {});\n",
              "          if (!dataTable) return;\n",
              "\n",
              "          const docLinkHtml = 'Like what you see? Visit the ' +\n",
              "            '<a target=\"_blank\" href=https://colab.research.google.com/notebooks/data_table.ipynb>data table notebook</a>'\n",
              "            + ' to learn more about interactive tables.';\n",
              "          element.innerHTML = '';\n",
              "          dataTable['output_type'] = 'display_data';\n",
              "          await google.colab.output.renderOutput(dataTable, element);\n",
              "          const docLink = document.createElement('div');\n",
              "          docLink.innerHTML = docLinkHtml;\n",
              "          element.appendChild(docLink);\n",
              "        }\n",
              "      </script>\n",
              "    </div>\n",
              "  </div>\n",
              "  "
            ]
          },
          "metadata": {},
          "execution_count": 54
        }
      ]
    },
    {
      "cell_type": "code",
      "source": [
        "# drop extreme outliers in product weight\n",
        "table2.drop(table2[table2[\"product_weight_g\"]==40425.0].index, inplace=True)\n",
        "\n",
        "#Calculate Upper limit of product weight (99th Percentile)\n",
        "p99_weight = int(table2[\"product_weight_g\"].quantile(q=0.99))\n",
        "table2.loc[table2[\"product_weight_g\"] > p99_weight, \"product_weight_g\"] = p99_weight\n",
        "\n",
        "#Calculate Upper limit of product weight (99th Percentile)\n",
        "p99_price = table2[\"price\"].quantile(q=0.99)\n",
        "table2.loc[table2[\"price\"] > p99_price, \"price\"] = p99_price\n",
        "\n",
        "# re-check whether the outlier handling performed\n",
        "outlier_check = pd.DataFrame(data = table2,\n",
        "                             columns = ['product_name_lenght','product_description_lenght',\n",
        "                                        'product_photos_qty','product_weight_g',\n",
        "                                        'product_length_cm','product_height_cm',\n",
        "                                        'product_width_cm', 'price'])\n",
        "\n",
        "sns.set(rc={'figure.figsize':(6,3)})\n",
        "sns.boxplot(x=\"value\", y=\"variable\", data=pd.melt(outlier_check), orient=\"h\")\n",
        "plt.show()\n",
        "table2.describe().transpose()"
      ],
      "metadata": {
        "colab": {
          "base_uri": "https://localhost:8080/",
          "height": 633
        },
        "id": "Y81LOh15gLpr",
        "outputId": "bc9594cd-d1a6-46b1-d4f2-8fab60c3bf12"
      },
      "execution_count": null,
      "outputs": [
        {
          "output_type": "display_data",
          "data": {
            "text/plain": [
              "<Figure size 600x300 with 1 Axes>"
            ],
            "image/png": "[encoded data removed]"
          },
          "metadata": {}
        },
        {
          "output_type": "execute_result",
          "data": {
            "text/plain": [
              "                               count         mean          std   min    25%  \\\n",
              "product_name_lenght         111044.0    48.775702    10.025576  5.00   42.0   \n",
              "product_description_lenght  111044.0   787.873888   652.143082  4.00  348.0   \n",
              "product_photos_qty          111044.0     2.209746     1.721450  1.00    1.0   \n",
              "product_weight_g            111044.0  2038.873023  3403.129165  0.00  300.0   \n",
              "product_length_cm           111044.0    30.211421    16.189258  7.00   18.0   \n",
              "product_height_cm           111044.0    16.625023    13.465239  2.00    8.0   \n",
              "product_width_cm            111044.0    23.041794    11.716740  6.00   15.0   \n",
              "order_item_id               111044.0     1.198219     0.706881  1.00    1.0   \n",
              "price                       111044.0   115.439123   136.630401  0.85   39.9   \n",
              "\n",
              "                               50%     75%      max  \n",
              "product_name_lenght          52.00    57.0     76.0  \n",
              "product_description_lenght  603.00   987.0   3992.0  \n",
              "product_photos_qty            1.00     3.0     20.0  \n",
              "product_weight_g            700.00  1800.0  18214.0  \n",
              "product_length_cm            25.00    38.0    105.0  \n",
              "product_height_cm            13.00    20.0    105.0  \n",
              "product_width_cm             20.00    30.0    118.0  \n",
              "order_item_id                 1.00     1.0     21.0  \n",
              "price                        74.99   134.9    890.0  "
            ],
            "text/html": [
              "\n",
              "  <div id=\"df-644f4239-1379-43da-9f42-c46e5fe0b2a2\">\n",
              "    <div class=\"colab-df-container\">\n",
              "      <div>\n",
              "<style scoped>\n",
              "    .dataframe tbody tr th:only-of-type {\n",
              "        vertical-align: middle;\n",
              "    }\n",
              "\n",
              "    .dataframe tbody tr th {\n",
              "        vertical-align: top;\n",
              "    }\n",
              "\n",
              "    .dataframe thead th {\n",
              "        text-align: right;\n",
              "    }\n",
              "</style>\n",
              "<table border=\"1\" class=\"dataframe\">\n",
              "  <thead>\n",
              "    <tr style=\"text-align: right;\">\n",
              "      <th></th>\n",
              "      <th>count</th>\n",
              "      <th>mean</th>\n",
              "      <th>std</th>\n",
              "      <th>min</th>\n",
              "      <th>25%</th>\n",
              "      <th>50%</th>\n",
              "      <th>75%</th>\n",
              "      <th>max</th>\n",
              "    </tr>\n",
              "  </thead>\n",
              "  <tbody>\n",
              "    <tr>\n",
              "      <th>product_name_lenght</th>\n",
              "      <td>111044.0</td>\n",
              "      <td>48.775702</td>\n",
              "      <td>10.025576</td>\n",
              "      <td>5.00</td>\n",
              "      <td>42.0</td>\n",
              "      <td>52.00</td>\n",
              "      <td>57.0</td>\n",
              "      <td>76.0</td>\n",
              "    </tr>\n",
              "    <tr>\n",
              "      <th>product_description_lenght</th>\n",
              "      <td>111044.0</td>\n",
              "      <td>787.873888</td>\n",
              "      <td>652.143082</td>\n",
              "      <td>4.00</td>\n",
              "      <td>348.0</td>\n",
              "      <td>603.00</td>\n",
              "      <td>987.0</td>\n",
              "      <td>3992.0</td>\n",
              "    </tr>\n",
              "    <tr>\n",
              "      <th>product_photos_qty</th>\n",
              "      <td>111044.0</td>\n",
              "      <td>2.209746</td>\n",
              "      <td>1.721450</td>\n",
              "      <td>1.00</td>\n",
              "      <td>1.0</td>\n",
              "      <td>1.00</td>\n",
              "      <td>3.0</td>\n",
              "      <td>20.0</td>\n",
              "    </tr>\n",
              "    <tr>\n",
              "      <th>product_weight_g</th>\n",
              "      <td>111044.0</td>\n",
              "      <td>2038.873023</td>\n",
              "      <td>3403.129165</td>\n",
              "      <td>0.00</td>\n",
              "      <td>300.0</td>\n",
              "      <td>700.00</td>\n",
              "      <td>1800.0</td>\n",
              "      <td>18214.0</td>\n",
              "    </tr>\n",
              "    <tr>\n",
              "      <th>product_length_cm</th>\n",
              "      <td>111044.0</td>\n",
              "      <td>30.211421</td>\n",
              "      <td>16.189258</td>\n",
              "      <td>7.00</td>\n",
              "      <td>18.0</td>\n",
              "      <td>25.00</td>\n",
              "      <td>38.0</td>\n",
              "      <td>105.0</td>\n",
              "    </tr>\n",
              "    <tr>\n",
              "      <th>product_height_cm</th>\n",
              "      <td>111044.0</td>\n",
              "      <td>16.625023</td>\n",
              "      <td>13.465239</td>\n",
              "      <td>2.00</td>\n",
              "      <td>8.0</td>\n",
              "      <td>13.00</td>\n",
              "      <td>20.0</td>\n",
              "      <td>105.0</td>\n",
              "    </tr>\n",
              "    <tr>\n",
              "      <th>product_width_cm</th>\n",
              "      <td>111044.0</td>\n",
              "      <td>23.041794</td>\n",
              "      <td>11.716740</td>\n",
              "      <td>6.00</td>\n",
              "      <td>15.0</td>\n",
              "      <td>20.00</td>\n",
              "      <td>30.0</td>\n",
              "      <td>118.0</td>\n",
              "    </tr>\n",
              "    <tr>\n",
              "      <th>order_item_id</th>\n",
              "      <td>111044.0</td>\n",
              "      <td>1.198219</td>\n",
              "      <td>0.706881</td>\n",
              "      <td>1.00</td>\n",
              "      <td>1.0</td>\n",
              "      <td>1.00</td>\n",
              "      <td>1.0</td>\n",
              "      <td>21.0</td>\n",
              "    </tr>\n",
              "    <tr>\n",
              "      <th>price</th>\n",
              "      <td>111044.0</td>\n",
              "      <td>115.439123</td>\n",
              "      <td>136.630401</td>\n",
              "      <td>0.85</td>\n",
              "      <td>39.9</td>\n",
              "      <td>74.99</td>\n",
              "      <td>134.9</td>\n",
              "      <td>890.0</td>\n",
              "    </tr>\n",
              "  </tbody>\n",
              "</table>\n",
              "</div>\n",
              "      <button class=\"colab-df-convert\" onclick=\"convertToInteractive('df-644f4239-1379-43da-9f42-c46e5fe0b2a2')\"\n",
              "              title=\"Convert this dataframe to an interactive table.\"\n",
              "              style=\"display:none;\">\n",
              "        \n",
              "  <svg xmlns=\"http://www.w3.org/2000/svg\" height=\"24px\"viewBox=\"0 0 24 24\"\n",
              "       width=\"24px\">\n",
              "    <path d=\"M0 0h24v24H0V0z\" fill=\"none\"/>\n",
              "    <path d=\"M18.56 5.44l.94 2.06.94-2.06 2.06-.94-2.06-.94-.94-2.06-.94 2.06-2.06.94zm-11 1L8.5 8.5l.94-2.06 2.06-.94-2.06-.94L8.5 2.5l-.94 2.06-2.06.94zm10 10l.94 2.06.94-2.06 2.06-.94-2.06-.94-.94-2.06-.94 2.06-2.06.94z\"/><path d=\"M17.41 7.96l-1.37-1.37c-.4-.4-.92-.59-1.43-.59-.52 0-1.04.2-1.43.59L10.3 9.45l-7.72 7.72c-.78.78-.78 2.05 0 2.83L4 21.41c.39.39.9.59 1.41.59.51 0 1.02-.2 1.41-.59l7.78-7.78 2.81-2.81c.8-.78.8-2.07 0-2.86zM5.41 20L4 18.59l7.72-7.72 1.47 1.35L5.41 20z\"/>\n",
              "  </svg>\n",
              "      </button>\n",
              "      \n",
              "  <style>\n",
              "    .colab-df-container {\n",
              "      display:flex;\n",
              "      flex-wrap:wrap;\n",
              "      gap: 12px;\n",
              "    }\n",
              "\n",
              "    .colab-df-convert {\n",
              "      background-color: #E8F0FE;\n",
              "      border: none;\n",
              "      border-radius: 50%;\n",
              "      cursor: pointer;\n",
              "      display: none;\n",
              "      fill: #1967D2;\n",
              "      height: 32px;\n",
              "      padding: 0 0 0 0;\n",
              "      width: 32px;\n",
              "    }\n",
              "\n",
              "    .colab-df-convert:hover {\n",
              "      background-color: #E2EBFA;\n",
              "      box-shadow: 0px 1px 2px rgba(60, 64, 67, 0.3), 0px 1px 3px 1px rgba(60, 64, 67, 0.15);\n",
              "      fill: #174EA6;\n",
              "    }\n",
              "\n",
              "    [theme=dark] .colab-df-convert {\n",
              "      background-color: #3B4455;\n",
              "      fill: #D2E3FC;\n",
              "    }\n",
              "\n",
              "    [theme=dark] .colab-df-convert:hover {\n",
              "      background-color: #434B5C;\n",
              "      box-shadow: 0px 1px 3px 1px rgba(0, 0, 0, 0.15);\n",
              "      filter: drop-shadow(0px 1px 2px rgba(0, 0, 0, 0.3));\n",
              "      fill: #FFFFFF;\n",
              "    }\n",
              "  </style>\n",
              "\n",
              "      <script>\n",
              "        const buttonEl =\n",
              "          document.querySelector('#df-644f4239-1379-43da-9f42-c46e5fe0b2a2 button.colab-df-convert');\n",
              "        buttonEl.style.display =\n",
              "          google.colab.kernel.accessAllowed ? 'block' : 'none';\n",
              "\n",
              "        async function convertToInteractive(key) {\n",
              "          const element = document.querySelector('#df-644f4239-1379-43da-9f42-c46e5fe0b2a2');\n",
              "          const dataTable =\n",
              "            await google.colab.kernel.invokeFunction('convertToInteractive',\n",
              "                                                     [key], {});\n",
              "          if (!dataTable) return;\n",
              "\n",
              "          const docLinkHtml = 'Like what you see? Visit the ' +\n",
              "            '<a target=\"_blank\" href=https://colab.research.google.com/notebooks/data_table.ipynb>data table notebook</a>'\n",
              "            + ' to learn more about interactive tables.';\n",
              "          element.innerHTML = '';\n",
              "          dataTable['output_type'] = 'display_data';\n",
              "          await google.colab.output.renderOutput(dataTable, element);\n",
              "          const docLink = document.createElement('div');\n",
              "          docLink.innerHTML = docLinkHtml;\n",
              "          element.appendChild(docLink);\n",
              "        }\n",
              "      </script>\n",
              "    </div>\n",
              "  </div>\n",
              "  "
            ]
          },
          "metadata": {},
          "execution_count": 55
        }
      ]
    },
    {
      "cell_type": "markdown",
      "source": [
        "# Data Analysis\n",
        "\n",
        "Case 1 - Best Selling Category"
      ],
      "metadata": {
        "id": "5WjcFmAogW7_"
      }
    },
    {
      "cell_type": "code",
      "source": [
        "# count order_id by product category\n",
        "best_selling_category = table2[[\"product_category_name\", \"order_id\"]].groupby(\"product_category_name\").agg(\"count\")\n",
        "\n",
        "# sort best-selling category from most to least\n",
        "best_selling_category = best_selling_category.sort_values(by=[\"order_id\"], ascending=False)\n",
        "\n",
        "# show top 3 and bottom 3\n",
        "with pd.option_context('display.max_rows',6):\n",
        "    print(best_selling_category)"
      ],
      "metadata": {
        "colab": {
          "base_uri": "https://localhost:8080/"
        },
        "id": "NylOm8_2gjiP",
        "outputId": "8c387fa7-dad1-4d8b-b09e-8a3f3196e9c3"
      },
      "execution_count": null,
      "outputs": [
        {
          "output_type": "stream",
          "name": "stdout",
          "text": [
            "                               order_id\n",
            "product_category_name                  \n",
            "cama_mesa_banho                   11112\n",
            "beleza_saude                       9670\n",
            "esporte_lazer                      8641\n",
            "...                                 ...\n",
            "cds_dvds_musicais                    14\n",
            "fashion_roupa_infanto_juvenil         8\n",
            "seguros_e_servicos                    2\n",
            "\n",
            "[59 rows x 1 columns]\n"
          ]
        }
      ]
    },
    {
      "cell_type": "markdown",
      "source": [
        "Case 2 - Price Range of Top #1 Category"
      ],
      "metadata": {
        "id": "HhLUux8fgtc6"
      }
    },
    {
      "cell_type": "code",
      "source": [
        "# create table consists of order_id, product_id, and price of cama_mesa_banho products\n",
        "cama_mesa_banho = table2.loc[table2[\"product_category_name\"] == \"cama_mesa_banho\"][\n",
        "                 [\"order_id\",\"product_id\", \"product_category_name\", \"price\"]\n",
        "                 ].drop_duplicates().reset_index().drop(\"index\", axis=1)\n",
        "\n",
        "# set plot size\n",
        "fig = plt.figure(figsize =(5,1))\n",
        " \n",
        "# Create plot\n",
        "plot = plt.boxplot(cama_mesa_banho[\"price\"], vert=False)\n",
        " \n",
        "# show plot\n",
        "plt.show()\n",
        "cama_mesa_banho.describe().transpose()"
      ],
      "metadata": {
        "colab": {
          "base_uri": "https://localhost:8080/",
          "height": 206
        },
        "id": "KxWmdxGzg0eQ",
        "outputId": "ea470e52-19f1-423e-fc17-647831b26050"
      },
      "execution_count": null,
      "outputs": [
        {
          "output_type": "display_data",
          "data": {
            "text/plain": [
              "<Figure size 500x100 with 1 Axes>"
            ],
            "image/png": "[encoded data removed]"
          },
          "metadata": {}
        },
        {
          "output_type": "execute_result",
          "data": {
            "text/plain": [
              "         count       mean        std   min    25%   50%    75%    max\n",
              "price  10157.0  94.209317  73.715473  6.99  49.89  79.9  116.9  890.0"
            ],
            "text/html": [
              "\n",
              "  <div id=\"df-8e31a9d3-b220-476d-a465-609d1e1e329c\">\n",
              "    <div class=\"colab-df-container\">\n",
              "      <div>\n",
              "<style scoped>\n",
              "    .dataframe tbody tr th:only-of-type {\n",
              "        vertical-align: middle;\n",
              "    }\n",
              "\n",
              "    .dataframe tbody tr th {\n",
              "        vertical-align: top;\n",
              "    }\n",
              "\n",
              "    .dataframe thead th {\n",
              "        text-align: right;\n",
              "    }\n",
              "</style>\n",
              "<table border=\"1\" class=\"dataframe\">\n",
              "  <thead>\n",
              "    <tr style=\"text-align: right;\">\n",
              "      <th></th>\n",
              "      <th>count</th>\n",
              "      <th>mean</th>\n",
              "      <th>std</th>\n",
              "      <th>min</th>\n",
              "      <th>25%</th>\n",
              "      <th>50%</th>\n",
              "      <th>75%</th>\n",
              "      <th>max</th>\n",
              "    </tr>\n",
              "  </thead>\n",
              "  <tbody>\n",
              "    <tr>\n",
              "      <th>price</th>\n",
              "      <td>10157.0</td>\n",
              "      <td>94.209317</td>\n",
              "      <td>73.715473</td>\n",
              "      <td>6.99</td>\n",
              "      <td>49.89</td>\n",
              "      <td>79.9</td>\n",
              "      <td>116.9</td>\n",
              "      <td>890.0</td>\n",
              "    </tr>\n",
              "  </tbody>\n",
              "</table>\n",
              "</div>\n",
              "      <button class=\"colab-df-convert\" onclick=\"convertToInteractive('df-8e31a9d3-b220-476d-a465-609d1e1e329c')\"\n",
              "              title=\"Convert this dataframe to an interactive table.\"\n",
              "              style=\"display:none;\">\n",
              "        \n",
              "  <svg xmlns=\"http://www.w3.org/2000/svg\" height=\"24px\"viewBox=\"0 0 24 24\"\n",
              "       width=\"24px\">\n",
              "    <path d=\"M0 0h24v24H0V0z\" fill=\"none\"/>\n",
              "    <path d=\"M18.56 5.44l.94 2.06.94-2.06 2.06-.94-2.06-.94-.94-2.06-.94 2.06-2.06.94zm-11 1L8.5 8.5l.94-2.06 2.06-.94-2.06-.94L8.5 2.5l-.94 2.06-2.06.94zm10 10l.94 2.06.94-2.06 2.06-.94-2.06-.94-.94-2.06-.94 2.06-2.06.94z\"/><path d=\"M17.41 7.96l-1.37-1.37c-.4-.4-.92-.59-1.43-.59-.52 0-1.04.2-1.43.59L10.3 9.45l-7.72 7.72c-.78.78-.78 2.05 0 2.83L4 21.41c.39.39.9.59 1.41.59.51 0 1.02-.2 1.41-.59l7.78-7.78 2.81-2.81c.8-.78.8-2.07 0-2.86zM5.41 20L4 18.59l7.72-7.72 1.47 1.35L5.41 20z\"/>\n",
              "  </svg>\n",
              "      </button>\n",
              "      \n",
              "  <style>\n",
              "    .colab-df-container {\n",
              "      display:flex;\n",
              "      flex-wrap:wrap;\n",
              "      gap: 12px;\n",
              "    }\n",
              "\n",
              "    .colab-df-convert {\n",
              "      background-color: #E8F0FE;\n",
              "      border: none;\n",
              "      border-radius: 50%;\n",
              "      cursor: pointer;\n",
              "      display: none;\n",
              "      fill: #1967D2;\n",
              "      height: 32px;\n",
              "      padding: 0 0 0 0;\n",
              "      width: 32px;\n",
              "    }\n",
              "\n",
              "    .colab-df-convert:hover {\n",
              "      background-color: #E2EBFA;\n",
              "      box-shadow: 0px 1px 2px rgba(60, 64, 67, 0.3), 0px 1px 3px 1px rgba(60, 64, 67, 0.15);\n",
              "      fill: #174EA6;\n",
              "    }\n",
              "\n",
              "    [theme=dark] .colab-df-convert {\n",
              "      background-color: #3B4455;\n",
              "      fill: #D2E3FC;\n",
              "    }\n",
              "\n",
              "    [theme=dark] .colab-df-convert:hover {\n",
              "      background-color: #434B5C;\n",
              "      box-shadow: 0px 1px 3px 1px rgba(0, 0, 0, 0.15);\n",
              "      filter: drop-shadow(0px 1px 2px rgba(0, 0, 0, 0.3));\n",
              "      fill: #FFFFFF;\n",
              "    }\n",
              "  </style>\n",
              "\n",
              "      <script>\n",
              "        const buttonEl =\n",
              "          document.querySelector('#df-8e31a9d3-b220-476d-a465-609d1e1e329c button.colab-df-convert');\n",
              "        buttonEl.style.display =\n",
              "          google.colab.kernel.accessAllowed ? 'block' : 'none';\n",
              "\n",
              "        async function convertToInteractive(key) {\n",
              "          const element = document.querySelector('#df-8e31a9d3-b220-476d-a465-609d1e1e329c');\n",
              "          const dataTable =\n",
              "            await google.colab.kernel.invokeFunction('convertToInteractive',\n",
              "                                                     [key], {});\n",
              "          if (!dataTable) return;\n",
              "\n",
              "          const docLinkHtml = 'Like what you see? Visit the ' +\n",
              "            '<a target=\"_blank\" href=https://colab.research.google.com/notebooks/data_table.ipynb>data table notebook</a>'\n",
              "            + ' to learn more about interactive tables.';\n",
              "          element.innerHTML = '';\n",
              "          dataTable['output_type'] = 'display_data';\n",
              "          await google.colab.output.renderOutput(dataTable, element);\n",
              "          const docLink = document.createElement('div');\n",
              "          docLink.innerHTML = docLinkHtml;\n",
              "          element.appendChild(docLink);\n",
              "        }\n",
              "      </script>\n",
              "    </div>\n",
              "  </div>\n",
              "  "
            ]
          },
          "metadata": {},
          "execution_count": 57
        }
      ]
    },
    {
      "cell_type": "markdown",
      "source": [
        "Case 3 - Correlation between characteristics"
      ],
      "metadata": {
        "id": "RI6jyCsFg6zm"
      }
    },
    {
      "cell_type": "code",
      "source": [
        "# set plot size\n",
        "sns.set(rc={'figure.figsize':(5,2.5)})\n",
        "sns.set(font_scale=0.75)\n",
        "\n",
        "# calculate correlation value between numerical columns\n",
        "corr = table2.loc[table2[\"product_category_name\"] == \"cama_mesa_banho\"].drop_duplicates().corr(method=\"pearson\")\n",
        "\n",
        "# plot the value to heatmap\n",
        "sns.heatmap(corr)"
      ],
      "metadata": {
        "colab": {
          "base_uri": "https://localhost:8080/",
          "height": 421
        },
        "id": "2Q6E3sXuhN-z",
        "outputId": "d2252271-2d86-4085-9a4d-46493647d262"
      },
      "execution_count": null,
      "outputs": [
        {
          "output_type": "execute_result",
          "data": {
            "text/plain": [
              "<Axes: >"
            ]
          },
          "metadata": {},
          "execution_count": 58
        },
        {
          "output_type": "display_data",
          "data": {
            "text/plain": [
              "<Figure size 500x250 with 2 Axes>"
            ],
            "image/png": "[encoded data removed]"
          },
          "metadata": {}
        }
      ]
    },
    {
      "cell_type": "markdown",
      "source": [
        "Case 4 - Characteristic of Top 10 Product of The Best Category"
      ],
      "metadata": {
        "id": "jbf3hN6whZIl"
      }
    },
    {
      "cell_type": "code",
      "source": [
        "# count order_id by product id\n",
        "best_selling_cama = table2[table2[\"product_category_name\"] == \"cama_mesa_banho\"\n",
        "                          ][[\"product_id\",\"order_id\"]].groupby(\"product_id\").agg(\"count\")\n",
        "\n",
        "# sort best-selling product\n",
        "best_selling_cama = best_selling_cama.sort_values(by=[\"order_id\"], ascending=False).reset_index()\n",
        "\n",
        "# show top 3 and bottom 3\n",
        "with pd.option_context('display.max_rows',6):\n",
        "    print(best_selling_cama)"
      ],
      "metadata": {
        "colab": {
          "base_uri": "https://localhost:8080/"
        },
        "id": "eiE-BmP0hebh",
        "outputId": "742d1ab3-0669-438a-b859-f1131ed70a12"
      },
      "execution_count": null,
      "outputs": [
        {
          "output_type": "stream",
          "name": "stdout",
          "text": [
            "                            product_id  order_id\n",
            "0     99a4788cb24856965c36a24e339b6058       488\n",
            "1     f1c7f353075ce59d8a6f3cf58f419c9c       154\n",
            "2     06edb72f1e0c64b14c5b79353f7abea3       143\n",
            "...                                ...       ...\n",
            "3025  6947c3397dae24c49aa4b34b68bf3b09         1\n",
            "3026  693e8a3550dfe12cd2a3f2a3f01b6130         1\n",
            "3027  7ddb6ba690b14dee5c0f2d372e034cec         1\n",
            "\n",
            "[3028 rows x 2 columns]\n"
          ]
        }
      ]
    },
    {
      "cell_type": "code",
      "source": [
        "# store the id of top 10 product in variable\n",
        "best_product = best_selling_cama.loc[0:9,\"product_id\"].tolist()\n",
        "\n",
        "# store the values of top 10 product in new dataframe\n",
        "top10_cama = table2.loc[table2['product_id'].isin(best_product)][\n",
        "                        ['product_id','product_name_lenght','product_description_lenght',\n",
        "                        'product_photos_qty','product_weight_g','product_length_cm',\n",
        "                        'product_height_cm','product_width_cm', 'price']].drop_duplicates()\n",
        "\n",
        "# plot descriptive analysis\n",
        "top10_cama.describe().transpose()"
      ],
      "metadata": {
        "colab": {
          "base_uri": "https://localhost:8080/",
          "height": 300
        },
        "id": "Mihj1__vhpcq",
        "outputId": "afddb6c7-febd-4183-f652-87ecf6800f2f"
      },
      "execution_count": null,
      "outputs": [
        {
          "output_type": "execute_result",
          "data": {
            "text/plain": [
              "                            count         mean          std     min     25%  \\\n",
              "product_name_lenght          53.0    52.000000     6.639045   38.00    46.0   \n",
              "product_description_lenght   53.0   348.622642   206.832450  161.00   162.0   \n",
              "product_photos_qty           53.0     2.283019     1.758248    1.00     1.0   \n",
              "product_weight_g             53.0  3781.792453  3710.263195  350.00  1383.0   \n",
              "product_length_cm            53.0    43.754717    13.374640   20.00    35.0   \n",
              "product_height_cm            53.0    14.207547     5.001379    8.00    12.0   \n",
              "product_width_cm             53.0    34.547170     8.015768   19.00    30.0   \n",
              "price                        53.0   105.174151    48.445495   38.79    79.9   \n",
              "\n",
              "                               50%     75%     max  \n",
              "product_name_lenght           55.0    56.0    60.0  \n",
              "product_description_lenght   279.0   329.0   744.0  \n",
              "product_photos_qty             1.0     5.0     5.0  \n",
              "product_weight_g            1813.0  8350.0  9750.0  \n",
              "product_length_cm             44.0    50.0    67.0  \n",
              "product_height_cm             12.0    14.0    27.0  \n",
              "product_width_cm              34.0    40.0    47.0  \n",
              "price                         88.0   148.9   215.0  "
            ],
            "text/html": [
              "\n",
              "  <div id=\"df-de32caa0-2e12-4c9e-af95-22b7b6590e6d\">\n",
              "    <div class=\"colab-df-container\">\n",
              "      <div>\n",
              "<style scoped>\n",
              "    .dataframe tbody tr th:only-of-type {\n",
              "        vertical-align: middle;\n",
              "    }\n",
              "\n",
              "    .dataframe tbody tr th {\n",
              "        vertical-align: top;\n",
              "    }\n",
              "\n",
              "    .dataframe thead th {\n",
              "        text-align: right;\n",
              "    }\n",
              "</style>\n",
              "<table border=\"1\" class=\"dataframe\">\n",
              "  <thead>\n",
              "    <tr style=\"text-align: right;\">\n",
              "      <th></th>\n",
              "      <th>count</th>\n",
              "      <th>mean</th>\n",
              "      <th>std</th>\n",
              "      <th>min</th>\n",
              "      <th>25%</th>\n",
              "      <th>50%</th>\n",
              "      <th>75%</th>\n",
              "      <th>max</th>\n",
              "    </tr>\n",
              "  </thead>\n",
              "  <tbody>\n",
              "    <tr>\n",
              "      <th>product_name_lenght</th>\n",
              "      <td>53.0</td>\n",
              "      <td>52.000000</td>\n",
              "      <td>6.639045</td>\n",
              "      <td>38.00</td>\n",
              "      <td>46.0</td>\n",
              "      <td>55.0</td>\n",
              "      <td>56.0</td>\n",
              "      <td>60.0</td>\n",
              "    </tr>\n",
              "    <tr>\n",
              "      <th>product_description_lenght</th>\n",
              "      <td>53.0</td>\n",
              "      <td>348.622642</td>\n",
              "      <td>206.832450</td>\n",
              "      <td>161.00</td>\n",
              "      <td>162.0</td>\n",
              "      <td>279.0</td>\n",
              "      <td>329.0</td>\n",
              "      <td>744.0</td>\n",
              "    </tr>\n",
              "    <tr>\n",
              "      <th>product_photos_qty</th>\n",
              "      <td>53.0</td>\n",
              "      <td>2.283019</td>\n",
              "      <td>1.758248</td>\n",
              "      <td>1.00</td>\n",
              "      <td>1.0</td>\n",
              "      <td>1.0</td>\n",
              "      <td>5.0</td>\n",
              "      <td>5.0</td>\n",
              "    </tr>\n",
              "    <tr>\n",
              "      <th>product_weight_g</th>\n",
              "      <td>53.0</td>\n",
              "      <td>3781.792453</td>\n",
              "      <td>3710.263195</td>\n",
              "      <td>350.00</td>\n",
              "      <td>1383.0</td>\n",
              "      <td>1813.0</td>\n",
              "      <td>8350.0</td>\n",
              "      <td>9750.0</td>\n",
              "    </tr>\n",
              "    <tr>\n",
              "      <th>product_length_cm</th>\n",
              "      <td>53.0</td>\n",
              "      <td>43.754717</td>\n",
              "      <td>13.374640</td>\n",
              "      <td>20.00</td>\n",
              "      <td>35.0</td>\n",
              "      <td>44.0</td>\n",
              "      <td>50.0</td>\n",
              "      <td>67.0</td>\n",
              "    </tr>\n",
              "    <tr>\n",
              "      <th>product_height_cm</th>\n",
              "      <td>53.0</td>\n",
              "      <td>14.207547</td>\n",
              "      <td>5.001379</td>\n",
              "      <td>8.00</td>\n",
              "      <td>12.0</td>\n",
              "      <td>12.0</td>\n",
              "      <td>14.0</td>\n",
              "      <td>27.0</td>\n",
              "    </tr>\n",
              "    <tr>\n",
              "      <th>product_width_cm</th>\n",
              "      <td>53.0</td>\n",
              "      <td>34.547170</td>\n",
              "      <td>8.015768</td>\n",
              "      <td>19.00</td>\n",
              "      <td>30.0</td>\n",
              "      <td>34.0</td>\n",
              "      <td>40.0</td>\n",
              "      <td>47.0</td>\n",
              "    </tr>\n",
              "    <tr>\n",
              "      <th>price</th>\n",
              "      <td>53.0</td>\n",
              "      <td>105.174151</td>\n",
              "      <td>48.445495</td>\n",
              "      <td>38.79</td>\n",
              "      <td>79.9</td>\n",
              "      <td>88.0</td>\n",
              "      <td>148.9</td>\n",
              "      <td>215.0</td>\n",
              "    </tr>\n",
              "  </tbody>\n",
              "</table>\n",
              "</div>\n",
              "      <button class=\"colab-df-convert\" onclick=\"convertToInteractive('df-de32caa0-2e12-4c9e-af95-22b7b6590e6d')\"\n",
              "              title=\"Convert this dataframe to an interactive table.\"\n",
              "              style=\"display:none;\">\n",
              "        \n",
              "  <svg xmlns=\"http://www.w3.org/2000/svg\" height=\"24px\"viewBox=\"0 0 24 24\"\n",
              "       width=\"24px\">\n",
              "    <path d=\"M0 0h24v24H0V0z\" fill=\"none\"/>\n",
              "    <path d=\"M18.56 5.44l.94 2.06.94-2.06 2.06-.94-2.06-.94-.94-2.06-.94 2.06-2.06.94zm-11 1L8.5 8.5l.94-2.06 2.06-.94-2.06-.94L8.5 2.5l-.94 2.06-2.06.94zm10 10l.94 2.06.94-2.06 2.06-.94-2.06-.94-.94-2.06-.94 2.06-2.06.94z\"/><path d=\"M17.41 7.96l-1.37-1.37c-.4-.4-.92-.59-1.43-.59-.52 0-1.04.2-1.43.59L10.3 9.45l-7.72 7.72c-.78.78-.78 2.05 0 2.83L4 21.41c.39.39.9.59 1.41.59.51 0 1.02-.2 1.41-.59l7.78-7.78 2.81-2.81c.8-.78.8-2.07 0-2.86zM5.41 20L4 18.59l7.72-7.72 1.47 1.35L5.41 20z\"/>\n",
              "  </svg>\n",
              "      </button>\n",
              "      \n",
              "  <style>\n",
              "    .colab-df-container {\n",
              "      display:flex;\n",
              "      flex-wrap:wrap;\n",
              "      gap: 12px;\n",
              "    }\n",
              "\n",
              "    .colab-df-convert {\n",
              "      background-color: #E8F0FE;\n",
              "      border: none;\n",
              "      border-radius: 50%;\n",
              "      cursor: pointer;\n",
              "      display: none;\n",
              "      fill: #1967D2;\n",
              "      height: 32px;\n",
              "      padding: 0 0 0 0;\n",
              "      width: 32px;\n",
              "    }\n",
              "\n",
              "    .colab-df-convert:hover {\n",
              "      background-color: #E2EBFA;\n",
              "      box-shadow: 0px 1px 2px rgba(60, 64, 67, 0.3), 0px 1px 3px 1px rgba(60, 64, 67, 0.15);\n",
              "      fill: #174EA6;\n",
              "    }\n",
              "\n",
              "    [theme=dark] .colab-df-convert {\n",
              "      background-color: #3B4455;\n",
              "      fill: #D2E3FC;\n",
              "    }\n",
              "\n",
              "    [theme=dark] .colab-df-convert:hover {\n",
              "      background-color: #434B5C;\n",
              "      box-shadow: 0px 1px 3px 1px rgba(0, 0, 0, 0.15);\n",
              "      filter: drop-shadow(0px 1px 2px rgba(0, 0, 0, 0.3));\n",
              "      fill: #FFFFFF;\n",
              "    }\n",
              "  </style>\n",
              "\n",
              "      <script>\n",
              "        const buttonEl =\n",
              "          document.querySelector('#df-de32caa0-2e12-4c9e-af95-22b7b6590e6d button.colab-df-convert');\n",
              "        buttonEl.style.display =\n",
              "          google.colab.kernel.accessAllowed ? 'block' : 'none';\n",
              "\n",
              "        async function convertToInteractive(key) {\n",
              "          const element = document.querySelector('#df-de32caa0-2e12-4c9e-af95-22b7b6590e6d');\n",
              "          const dataTable =\n",
              "            await google.colab.kernel.invokeFunction('convertToInteractive',\n",
              "                                                     [key], {});\n",
              "          if (!dataTable) return;\n",
              "\n",
              "          const docLinkHtml = 'Like what you see? Visit the ' +\n",
              "            '<a target=\"_blank\" href=https://colab.research.google.com/notebooks/data_table.ipynb>data table notebook</a>'\n",
              "            + ' to learn more about interactive tables.';\n",
              "          element.innerHTML = '';\n",
              "          dataTable['output_type'] = 'display_data';\n",
              "          await google.colab.output.renderOutput(dataTable, element);\n",
              "          const docLink = document.createElement('div');\n",
              "          docLink.innerHTML = docLinkHtml;\n",
              "          element.appendChild(docLink);\n",
              "        }\n",
              "      </script>\n",
              "    </div>\n",
              "  </div>\n",
              "  "
            ]
          },
          "metadata": {},
          "execution_count": 62
        }
      ]
    },
    {
      "cell_type": "code",
      "source": [
        "# read data from file\n",
        "query_product = (\"SELECT * FROM olist_products_dataset\")\n",
        "product = pd.read_sql(query_product, conn)"
      ],
      "metadata": {
        "id": "Vmgp0Sr61Jgg"
      },
      "execution_count": null,
      "outputs": []
    },
    {
      "cell_type": "code",
      "source": [
        "product.head()"
      ],
      "metadata": {
        "colab": {
          "base_uri": "https://localhost:8080/",
          "height": 270
        },
        "id": "xfBpHuRZ1Trz",
        "outputId": "878b08ee-0289-4276-8735-bb4bc3581c65"
      },
      "execution_count": null,
      "outputs": [
        {
          "output_type": "execute_result",
          "data": {
            "text/plain": [
              "   index                        product_id  product_category_name  \\\n",
              "0      0  1e9e8ef04dbcff4541ed26657ea517e5             perfumaria   \n",
              "1      1  3aa071139cb16b67ca9e5dea641aaa2f                  artes   \n",
              "2      2  96bd76ec8810374ed1b65e291975717f          esporte_lazer   \n",
              "3      3  cef67bcfe19066a932b7673e239eb23d                  bebes   \n",
              "4      4  9dc1a7de274444849c219cff195d0b71  utilidades_domesticas   \n",
              "\n",
              "   product_name_lenght  product_description_lenght  product_photos_qty  \\\n",
              "0                 40.0                       287.0                 1.0   \n",
              "1                 44.0                       276.0                 1.0   \n",
              "2                 46.0                       250.0                 1.0   \n",
              "3                 27.0                       261.0                 1.0   \n",
              "4                 37.0                       402.0                 4.0   \n",
              "\n",
              "   product_weight_g  product_length_cm  product_height_cm  product_width_cm  \n",
              "0             225.0               16.0               10.0              14.0  \n",
              "1            1000.0               30.0               18.0              20.0  \n",
              "2             154.0               18.0                9.0              15.0  \n",
              "3             371.0               26.0                4.0              26.0  \n",
              "4             625.0               20.0               17.0              13.0  "
            ],
            "text/html": [
              "\n",
              "  <div id=\"df-66089963-de2d-44d3-9a55-c2091934d1bd\">\n",
              "    <div class=\"colab-df-container\">\n",
              "      <div>\n",
              "<style scoped>\n",
              "    .dataframe tbody tr th:only-of-type {\n",
              "        vertical-align: middle;\n",
              "    }\n",
              "\n",
              "    .dataframe tbody tr th {\n",
              "        vertical-align: top;\n",
              "    }\n",
              "\n",
              "    .dataframe thead th {\n",
              "        text-align: right;\n",
              "    }\n",
              "</style>\n",
              "<table border=\"1\" class=\"dataframe\">\n",
              "  <thead>\n",
              "    <tr style=\"text-align: right;\">\n",
              "      <th></th>\n",
              "      <th>index</th>\n",
              "      <th>product_id</th>\n",
              "      <th>product_category_name</th>\n",
              "      <th>product_name_lenght</th>\n",
              "      <th>product_description_lenght</th>\n",
              "      <th>product_photos_qty</th>\n",
              "      <th>product_weight_g</th>\n",
              "      <th>product_length_cm</th>\n",
              "      <th>product_height_cm</th>\n",
              "      <th>product_width_cm</th>\n",
              "    </tr>\n",
              "  </thead>\n",
              "  <tbody>\n",
              "    <tr>\n",
              "      <th>0</th>\n",
              "      <td>0</td>\n",
              "      <td>1e9e8ef04dbcff4541ed26657ea517e5</td>\n",
              "      <td>perfumaria</td>\n",
              "      <td>40.0</td>\n",
              "      <td>287.0</td>\n",
              "      <td>1.0</td>\n",
              "      <td>225.0</td>\n",
              "      <td>16.0</td>\n",
              "      <td>10.0</td>\n",
              "      <td>14.0</td>\n",
              "    </tr>\n",
              "    <tr>\n",
              "      <th>1</th>\n",
              "      <td>1</td>\n",
              "      <td>3aa071139cb16b67ca9e5dea641aaa2f</td>\n",
              "      <td>artes</td>\n",
              "      <td>44.0</td>\n",
              "      <td>276.0</td>\n",
              "      <td>1.0</td>\n",
              "      <td>1000.0</td>\n",
              "      <td>30.0</td>\n",
              "      <td>18.0</td>\n",
              "      <td>20.0</td>\n",
              "    </tr>\n",
              "    <tr>\n",
              "      <th>2</th>\n",
              "      <td>2</td>\n",
              "      <td>96bd76ec8810374ed1b65e291975717f</td>\n",
              "      <td>esporte_lazer</td>\n",
              "      <td>46.0</td>\n",
              "      <td>250.0</td>\n",
              "      <td>1.0</td>\n",
              "      <td>154.0</td>\n",
              "      <td>18.0</td>\n",
              "      <td>9.0</td>\n",
              "      <td>15.0</td>\n",
              "    </tr>\n",
              "    <tr>\n",
              "      <th>3</th>\n",
              "      <td>3</td>\n",
              "      <td>cef67bcfe19066a932b7673e239eb23d</td>\n",
              "      <td>bebes</td>\n",
              "      <td>27.0</td>\n",
              "      <td>261.0</td>\n",
              "      <td>1.0</td>\n",
              "      <td>371.0</td>\n",
              "      <td>26.0</td>\n",
              "      <td>4.0</td>\n",
              "      <td>26.0</td>\n",
              "    </tr>\n",
              "    <tr>\n",
              "      <th>4</th>\n",
              "      <td>4</td>\n",
              "      <td>9dc1a7de274444849c219cff195d0b71</td>\n",
              "      <td>utilidades_domesticas</td>\n",
              "      <td>37.0</td>\n",
              "      <td>402.0</td>\n",
              "      <td>4.0</td>\n",
              "      <td>625.0</td>\n",
              "      <td>20.0</td>\n",
              "      <td>17.0</td>\n",
              "      <td>13.0</td>\n",
              "    </tr>\n",
              "  </tbody>\n",
              "</table>\n",
              "</div>\n",
              "      <button class=\"colab-df-convert\" onclick=\"convertToInteractive('df-66089963-de2d-44d3-9a55-c2091934d1bd')\"\n",
              "              title=\"Convert this dataframe to an interactive table.\"\n",
              "              style=\"display:none;\">\n",
              "        \n",
              "  <svg xmlns=\"http://www.w3.org/2000/svg\" height=\"24px\"viewBox=\"0 0 24 24\"\n",
              "       width=\"24px\">\n",
              "    <path d=\"M0 0h24v24H0V0z\" fill=\"none\"/>\n",
              "    <path d=\"M18.56 5.44l.94 2.06.94-2.06 2.06-.94-2.06-.94-.94-2.06-.94 2.06-2.06.94zm-11 1L8.5 8.5l.94-2.06 2.06-.94-2.06-.94L8.5 2.5l-.94 2.06-2.06.94zm10 10l.94 2.06.94-2.06 2.06-.94-2.06-.94-.94-2.06-.94 2.06-2.06.94z\"/><path d=\"M17.41 7.96l-1.37-1.37c-.4-.4-.92-.59-1.43-.59-.52 0-1.04.2-1.43.59L10.3 9.45l-7.72 7.72c-.78.78-.78 2.05 0 2.83L4 21.41c.39.39.9.59 1.41.59.51 0 1.02-.2 1.41-.59l7.78-7.78 2.81-2.81c.8-.78.8-2.07 0-2.86zM5.41 20L4 18.59l7.72-7.72 1.47 1.35L5.41 20z\"/>\n",
              "  </svg>\n",
              "      </button>\n",
              "      \n",
              "  <style>\n",
              "    .colab-df-container {\n",
              "      display:flex;\n",
              "      flex-wrap:wrap;\n",
              "      gap: 12px;\n",
              "    }\n",
              "\n",
              "    .colab-df-convert {\n",
              "      background-color: #E8F0FE;\n",
              "      border: none;\n",
              "      border-radius: 50%;\n",
              "      cursor: pointer;\n",
              "      display: none;\n",
              "      fill: #1967D2;\n",
              "      height: 32px;\n",
              "      padding: 0 0 0 0;\n",
              "      width: 32px;\n",
              "    }\n",
              "\n",
              "    .colab-df-convert:hover {\n",
              "      background-color: #E2EBFA;\n",
              "      box-shadow: 0px 1px 2px rgba(60, 64, 67, 0.3), 0px 1px 3px 1px rgba(60, 64, 67, 0.15);\n",
              "      fill: #174EA6;\n",
              "    }\n",
              "\n",
              "    [theme=dark] .colab-df-convert {\n",
              "      background-color: #3B4455;\n",
              "      fill: #D2E3FC;\n",
              "    }\n",
              "\n",
              "    [theme=dark] .colab-df-convert:hover {\n",
              "      background-color: #434B5C;\n",
              "      box-shadow: 0px 1px 3px 1px rgba(0, 0, 0, 0.15);\n",
              "      filter: drop-shadow(0px 1px 2px rgba(0, 0, 0, 0.3));\n",
              "      fill: #FFFFFF;\n",
              "    }\n",
              "  </style>\n",
              "\n",
              "      <script>\n",
              "        const buttonEl =\n",
              "          document.querySelector('#df-66089963-de2d-44d3-9a55-c2091934d1bd button.colab-df-convert');\n",
              "        buttonEl.style.display =\n",
              "          google.colab.kernel.accessAllowed ? 'block' : 'none';\n",
              "\n",
              "        async function convertToInteractive(key) {\n",
              "          const element = document.querySelector('#df-66089963-de2d-44d3-9a55-c2091934d1bd');\n",
              "          const dataTable =\n",
              "            await google.colab.kernel.invokeFunction('convertToInteractive',\n",
              "                                                     [key], {});\n",
              "          if (!dataTable) return;\n",
              "\n",
              "          const docLinkHtml = 'Like what you see? Visit the ' +\n",
              "            '<a target=\"_blank\" href=https://colab.research.google.com/notebooks/data_table.ipynb>data table notebook</a>'\n",
              "            + ' to learn more about interactive tables.';\n",
              "          element.innerHTML = '';\n",
              "          dataTable['output_type'] = 'display_data';\n",
              "          await google.colab.output.renderOutput(dataTable, element);\n",
              "          const docLink = document.createElement('div');\n",
              "          docLink.innerHTML = docLinkHtml;\n",
              "          element.appendChild(docLink);\n",
              "        }\n",
              "      </script>\n",
              "    </div>\n",
              "  </div>\n",
              "  "
            ]
          },
          "metadata": {},
          "execution_count": 64
        }
      ]
    }
  ],
  "metadata": {
    "colab": {
      "provenance": []
    },
    "kernelspec": {
      "display_name": "Python 3",
      "name": "python3"
    },
    "language_info": {
      "name": "python"
    }
  },
  "nbformat": 4,
  "nbformat_minor": 0
}